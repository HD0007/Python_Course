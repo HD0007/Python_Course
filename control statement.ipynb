{
 "cells": [
  {
   "cell_type": "code",
   "execution_count": null,
   "metadata": {},
   "outputs": [],
   "source": [
    "n = int(input(\"The table of number : \"))\n",
    "c = 1\n",
    "print(\"table:\")\n",
    "while c<=10:\n",
    "    print(f\"{n} X {c} = {c*n}\")\n",
    "    c=c+1\n",
    "else:\n",
    "    print(\"done\")"
   ]
  },
  {
   "cell_type": "code",
   "execution_count": null,
   "metadata": {},
   "outputs": [],
   "source": [
    "n = int(input(\"The table of number : \"))\n",
    "c = 1\n",
    "print(\"table:\")\n",
    "while c<=10:\n",
    "    print(f\"{n:<5.2f} ** {c:>5} = {c**n:<77}\")\n",
    "    c=c+1\n",
    "else:\n",
    "    print(\"done\")"
   ]
  },
  {
   "cell_type": "code",
   "execution_count": null,
   "metadata": {},
   "outputs": [],
   "source": [
    "c = 1\n",
    "while c<=10:\n",
    "    print(f\"Hello {c}\")\n",
    "    if c%2:\n",
    "        c+=1\n",
    "    else:\n",
    "        c+=2\n",
    "else:\n",
    "    print(\"done\")"
   ]
  },
  {
   "cell_type": "markdown",
   "metadata": {},
   "source": [
    "# break\n"
   ]
  },
  {
   "cell_type": "code",
   "execution_count": null,
   "metadata": {},
   "outputs": [],
   "source": [
    "c = 1\n",
    "while c<=10:\n",
    "    break\n",
    "    print(\"hello\")\n",
    "else:\n",
    "    print(\"hi\")"
   ]
  },
  {
   "cell_type": "code",
   "execution_count": 3,
   "metadata": {},
   "outputs": [
    {
     "name": "stdout",
     "output_type": "stream",
     "text": [
      "2\n",
      "4\n"
     ]
    }
   ],
   "source": [
    "c = 0\n",
    "while c<=10:\n",
    "    c+=2\n",
    "    if c%3==0:\n",
    "        break;\n",
    "    print(c)\n",
    "else:\n",
    "    print(\"h\")"
   ]
  },
  {
   "cell_type": "markdown",
   "metadata": {},
   "source": [
    "# continue\n"
   ]
  },
  {
   "cell_type": "code",
   "execution_count": null,
   "metadata": {},
   "outputs": [],
   "source": [
    "c = 0\n",
    "while c<=10:\n",
    "    continue\n",
    "    print(\"h\")\n",
    "else:\n",
    "    print(\"what\")"
   ]
  },
  {
   "cell_type": "code",
   "execution_count": 1,
   "metadata": {},
   "outputs": [
    {
     "name": "stdout",
     "output_type": "stream",
     "text": [
      "what\n"
     ]
    }
   ],
   "source": [
    "c = 0\n",
    "while c<=10:\n",
    "    c=c+2\n",
    "    continue\n",
    "    print(\"h\")\n",
    "else:\n",
    "    print(\"what\")"
   ]
  },
  {
   "cell_type": "code",
   "execution_count": null,
   "metadata": {},
   "outputs": [],
   "source": [
    "c = 1\n",
    "while c<=10:    \n",
    "    continue\n",
    "    print(\"h\")\n",
    "else:\n",
    "    print(\"what\")"
   ]
  },
  {
   "cell_type": "code",
   "execution_count": 2,
   "metadata": {},
   "outputs": [
    {
     "name": "stdout",
     "output_type": "stream",
     "text": [
      "\n",
      "23\n",
      "k\n",
      "HD\n"
     ]
    }
   ],
   "source": [
    "from random import randint\n",
    "\n",
    "while not input():\n",
    "    print(randint(1,100))\n",
    "else:\n",
    "    print(\"HD\")"
   ]
  },
  {
   "cell_type": "code",
   "execution_count": 3,
   "metadata": {},
   "outputs": [
    {
     "name": "stdout",
     "output_type": "stream",
     "text": [
      "\n",
      "\n",
      "q\n"
     ]
    }
   ],
   "source": [
    "from random import choice\n",
    "names = []\n",
    "while not input():\n",
    "    names.append(input())"
   ]
  },
  {
   "cell_type": "code",
   "execution_count": 4,
   "metadata": {},
   "outputs": [
    {
     "name": "stdout",
     "output_type": "stream",
     "text": [
      "Enter a number (1-50): 45\n",
      "Chota socha h\n",
      "Enter a number (1-50): 47\n",
      "Chota socha h\n",
      "Enter a number (1-50): 35\n",
      "Chota socha h\n",
      "Enter a number (1-50): 40\n",
      "Chota socha h\n",
      "Enter a number (1-50): 43\n",
      "Chota socha h\n",
      "you loose\n"
     ]
    }
   ],
   "source": [
    "from random import choice,randint\n",
    "c = 1\n",
    "\n",
    "comp = randint(1,50)\n",
    "#print(comp)\n",
    "while c <= 5:\n",
    "    num = int(input(\"Enter a number (1-50): \"))\n",
    "    if num<comp and num > 0 and num <50:\n",
    "        print(\"Chota socha h\")\n",
    "        c = c+1\n",
    "        #continue\n",
    "    elif num>comp and num > 0 and num <50:\n",
    "        print(\"zyada socha h\")\n",
    "        c = c+1 \n",
    "        #continue\n",
    "    elif num<0 or num>50:\n",
    "        print(\"aukaat m soch\")\n",
    "        #continue\n",
    "    elif num == comp:\n",
    "        print(\"u won\")\n",
    "        break\n",
    "else:\n",
    "    print(\"you loose\")\n",
    "    "
   ]
  },
  {
   "cell_type": "code",
   "execution_count": 5,
   "metadata": {},
   "outputs": [
    {
     "data": {
      "text/plain": [
       "2401"
      ]
     },
     "execution_count": 5,
     "metadata": {},
     "output_type": "execute_result"
    }
   ],
   "source": [
    "7**4"
   ]
  },
  {
   "cell_type": "code",
   "execution_count": 6,
   "metadata": {},
   "outputs": [
    {
     "data": {
      "text/plain": [
       "59049"
      ]
     },
     "execution_count": 6,
     "metadata": {},
     "output_type": "execute_result"
    }
   ],
   "source": [
    "9**5"
   ]
  },
  {
   "cell_type": "code",
   "execution_count": 7,
   "metadata": {},
   "outputs": [
    {
     "data": {
      "text/plain": [
       "'\\n\\n\\n\\n\\n'"
      ]
     },
     "execution_count": 7,
     "metadata": {},
     "output_type": "execute_result"
    }
   ],
   "source": [
    "'''\n",
    "\n",
    "\n",
    "\n",
    "\n",
    "'''"
   ]
  },
  {
   "cell_type": "code",
   "execution_count": null,
   "metadata": {},
   "outputs": [],
   "source": [
    "\n"
   ]
  }
 ],
 "metadata": {
  "kernelspec": {
   "display_name": "Python 3",
   "language": "python",
   "name": "python3"
  },
  "language_info": {
   "codemirror_mode": {
    "name": "ipython",
    "version": 3
   },
   "file_extension": ".py",
   "mimetype": "text/x-python",
   "name": "python",
   "nbconvert_exporter": "python",
   "pygments_lexer": "ipython3",
   "version": "3.7.3"
  }
 },
 "nbformat": 4,
 "nbformat_minor": 2
}
