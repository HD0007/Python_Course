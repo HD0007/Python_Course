{
 "cells": [
  {
   "cell_type": "code",
   "execution_count": null,
   "metadata": {},
   "outputs": [],
   "source": [
    "# User defined dictionary\n",
    "\n",
    "a = 'Y'\n",
    "d = {}\n",
    "\n",
    "while a is 'Y' or 'y':\n",
    "    k = input(\"Enter a key : \")\n",
    "    v = input(\"Enter a value  : \")\n",
    "    d[k] = v\n",
    "    a = input(\"Want to add more values(Y/N) : \")\n",
    "\n",
    "if a is 'N' or 'n':\n",
    "    print(d)"
   ]
  },
  {
   "cell_type": "code",
   "execution_count": null,
   "metadata": {},
   "outputs": [],
   "source": [
    "v = eval(input(\"Enter a value  : \"))"
   ]
  },
  {
   "cell_type": "code",
   "execution_count": null,
   "metadata": {},
   "outputs": [],
   "source": []
  },
  {
   "cell_type": "code",
   "execution_count": null,
   "metadata": {},
   "outputs": [],
   "source": [
    "v"
   ]
  },
  {
   "cell_type": "code",
   "execution_count": null,
   "metadata": {},
   "outputs": [],
   "source": [
    "type(v)"
   ]
  },
  {
   "cell_type": "code",
   "execution_count": null,
   "metadata": {},
   "outputs": [],
   "source": [
    "# User defined dictionary\n",
    "\n",
    "a = 'Y'\n",
    "d = {}\n",
    "while a is 'Y' or 'y':\n",
    "    k = input(\"Enter a key : \")\n",
    "    v = input(\"Enter a value  : \")\n",
    "    d[k] = v\n",
    "    a = input(\"Want to add more values(Y/N) : \")\n",
    "\n",
    "if a is 'N' or 'n':\n",
    "    print(d)"
   ]
  },
  {
   "cell_type": "code",
   "execution_count": 1,
   "metadata": {},
   "outputs": [],
   "source": [
    "import copy\n",
    "a = [1,2]\n",
    "\n",
    "b = copy.deepcopy(a)"
   ]
  },
  {
   "cell_type": "code",
   "execution_count": 2,
   "metadata": {},
   "outputs": [
    {
     "data": {
      "text/plain": [
       "2658494782536"
      ]
     },
     "execution_count": 2,
     "metadata": {},
     "output_type": "execute_result"
    }
   ],
   "source": [
    "id(a)"
   ]
  },
  {
   "cell_type": "code",
   "execution_count": 3,
   "metadata": {},
   "outputs": [
    {
     "data": {
      "text/plain": [
       "2658495395848"
      ]
     },
     "execution_count": 3,
     "metadata": {},
     "output_type": "execute_result"
    }
   ],
   "source": [
    "id(b)"
   ]
  },
  {
   "cell_type": "code",
   "execution_count": 4,
   "metadata": {},
   "outputs": [
    {
     "data": {
      "text/plain": [
       "140710974624576"
      ]
     },
     "execution_count": 4,
     "metadata": {},
     "output_type": "execute_result"
    }
   ],
   "source": [
    "id(a[0])"
   ]
  },
  {
   "cell_type": "code",
   "execution_count": 5,
   "metadata": {},
   "outputs": [
    {
     "data": {
      "text/plain": [
       "140710974624576"
      ]
     },
     "execution_count": 5,
     "metadata": {},
     "output_type": "execute_result"
    }
   ],
   "source": [
    "id(b[0])"
   ]
  },
  {
   "cell_type": "code",
   "execution_count": 10,
   "metadata": {},
   "outputs": [
    {
     "data": {
      "text/plain": [
       "140710974624608"
      ]
     },
     "execution_count": 10,
     "metadata": {},
     "output_type": "execute_result"
    }
   ],
   "source": [
    "a[0]=  2\n",
    "id(a[0])"
   ]
  },
  {
   "cell_type": "code",
   "execution_count": 9,
   "metadata": {},
   "outputs": [
    {
     "data": {
      "text/plain": [
       "1"
      ]
     },
     "execution_count": 9,
     "metadata": {},
     "output_type": "execute_result"
    }
   ],
   "source": [
    "b[0]"
   ]
  },
  {
   "cell_type": "code",
   "execution_count": null,
   "metadata": {},
   "outputs": [],
   "source": []
  },
  {
   "cell_type": "code",
   "execution_count": null,
   "metadata": {},
   "outputs": [],
   "source": []
  },
  {
   "cell_type": "code",
   "execution_count": null,
   "metadata": {},
   "outputs": [],
   "source": []
  },
  {
   "cell_type": "code",
   "execution_count": null,
   "metadata": {},
   "outputs": [],
   "source": []
  },
  {
   "cell_type": "code",
   "execution_count": null,
   "metadata": {},
   "outputs": [],
   "source": []
  },
  {
   "cell_type": "code",
   "execution_count": null,
   "metadata": {},
   "outputs": [],
   "source": []
  },
  {
   "cell_type": "markdown",
   "metadata": {},
   "source": [
    "# Frozen Sets"
   ]
  },
  {
   "cell_type": "code",
   "execution_count": 11,
   "metadata": {},
   "outputs": [],
   "source": [
    "x = frozenset('python')"
   ]
  },
  {
   "cell_type": "code",
   "execution_count": 12,
   "metadata": {},
   "outputs": [
    {
     "data": {
      "text/plain": [
       "frozenset({'h', 'n', 'o', 'p', 't', 'y'})"
      ]
     },
     "execution_count": 12,
     "metadata": {},
     "output_type": "execute_result"
    }
   ],
   "source": [
    "x"
   ]
  },
  {
   "cell_type": "markdown",
   "metadata": {},
   "source": [
    "# Operator"
   ]
  },
  {
   "cell_type": "code",
   "execution_count": 16,
   "metadata": {},
   "outputs": [],
   "source": [
    "a = [1,2,3] * 2"
   ]
  },
  {
   "cell_type": "code",
   "execution_count": 17,
   "metadata": {},
   "outputs": [
    {
     "data": {
      "text/plain": [
       "[1, 2, 3, 1, 2, 3]"
      ]
     },
     "execution_count": 17,
     "metadata": {},
     "output_type": "execute_result"
    }
   ],
   "source": [
    "a"
   ]
  },
  {
   "cell_type": "code",
   "execution_count": 19,
   "metadata": {},
   "outputs": [],
   "source": [
    "import numpy as np"
   ]
  },
  {
   "cell_type": "code",
   "execution_count": 20,
   "metadata": {},
   "outputs": [],
   "source": [
    "b = np.array(a)"
   ]
  },
  {
   "cell_type": "code",
   "execution_count": 21,
   "metadata": {},
   "outputs": [
    {
     "data": {
      "text/plain": [
       "array([2, 4, 6, 2, 4, 6])"
      ]
     },
     "execution_count": 21,
     "metadata": {},
     "output_type": "execute_result"
    }
   ],
   "source": [
    "b*2"
   ]
  },
  {
   "cell_type": "code",
   "execution_count": null,
   "metadata": {},
   "outputs": [],
   "source": []
  },
  {
   "cell_type": "markdown",
   "metadata": {},
   "source": [
    "# bitwise"
   ]
  },
  {
   "cell_type": "markdown",
   "metadata": {},
   "source": []
  },
  {
   "cell_type": "code",
   "execution_count": 33,
   "metadata": {},
   "outputs": [
    {
     "data": {
      "text/plain": [
       "11259375"
      ]
     },
     "execution_count": 33,
     "metadata": {},
     "output_type": "execute_result"
    }
   ],
   "source": [
    "int(\"abcdef\",base=16)"
   ]
  },
  {
   "cell_type": "code",
   "execution_count": 34,
   "metadata": {},
   "outputs": [
    {
     "data": {
      "text/plain": [
       "5449"
      ]
     },
     "execution_count": 34,
     "metadata": {},
     "output_type": "execute_result"
    }
   ],
   "source": [
    "int('1010101001001',base = 2)"
   ]
  },
  {
   "cell_type": "code",
   "execution_count": null,
   "metadata": {},
   "outputs": [],
   "source": []
  },
  {
   "cell_type": "code",
   "execution_count": 37,
   "metadata": {},
   "outputs": [
    {
     "data": {
      "text/plain": [
       "'0x3182273d991df3aa559db4af51e0897672719b2df55a0df10b6c6cf69b4bb316c3a6d88f6594f021d10efa9243688d7d20df4c0bd6e336fd7cb96d0891060057d9a1ada1e145400f282a33cfe9b4267da69d7321deeb37ee74f924c2bb903f8c0988e976068952843fac9003ac35ba751fe2e99572c27df4c45bead96243062801c09ae024b65339f6b1dd9bcd6527776fe1818d47ba95a94d39dc9da889acf2983ce33ad2e112373284e51f1de8c8b7d4b961dca9ae06920d00e96abe0123d7acc2b13f7ab4944a5af8d19f2e195f5f41c7f5f8f4ccbcc50069354b39437d1b48a0ba66fd3ae0a976a0a9d9c25c2d79e0b1332d74504d3f1159d23a319515f72a2082a8d528846e1351b5f1bfabb4c280da65dfa'"
      ]
     },
     "execution_count": 37,
     "metadata": {},
     "output_type": "execute_result"
    }
   ],
   "source": [
    "hex(146146841320561513284651320147846513204686453120154687645312015346851322120154687645312015346851322120154687645312015346851322120154687645312015346851322120154687645312015346851322120154687645312015346851322120154687645312015346851322120154687645312015346851322120154687645312015346851322120154687645312015346851322120154687645312015346851322120154687645312015346851322120154687645312015346851322120154687645312015346851322120154687645312015346851322120154687645312015346851322120154687645312015346851322120154687645312015346851322120154687645312015346851322120154687645312015346851322120154687645312015346851322120154687645312015346851322120154687645312015346851322)"
   ]
  },
  {
   "cell_type": "code",
   "execution_count": 38,
   "metadata": {},
   "outputs": [
    {
     "data": {
      "text/plain": [
       "'0o32143514514256262552567201475002372314072713041006314334717130314122301246474127552334115215537067752732302401551456772'"
      ]
     },
     "execution_count": 38,
     "metadata": {},
     "output_type": "execute_result"
    }
   ],
   "source": [
    "oct(120154687645312015346851322120154687645312015346851322120154687645312015346851322120154687645312015346851322)"
   ]
  },
  {
   "cell_type": "code",
   "execution_count": 40,
   "metadata": {},
   "outputs": [
    {
     "data": {
      "text/plain": [
       "'0b1101101101101111101101000101001101001101000110001101010101011110110101111001000100100001001111011100001011010011010010011011111101000111111001010100111110110101111110101011000010111111101101111001011101111100100001111010110000111100111010110001101010110000011001000001100001000100101011000111010100011001100111010101110001001110100101111011111101110010010111101000000011000010101000110110011110111111001011100000100011100100111010011111110101100111000010100010101110110101000000001110111100100010011100111011110101010111001100001100100011000110011001111010001100100010010111000100111111101110000101100111000000010100100011001101010110110100111011110110010110111111010111011011011101101011010000000100011001000111100110111001101011101000010001100010111100111010110110100110111111101011111110011110000100011010101011000110011010111000011100111110000111111010001101001010010111000111001100011111100011100010101110010110010110010000111010110100111111011110001110000011001011111010001111011101101101110100111001000101110000101000011101110010100010010111011100011001110000010011100000001111011100010111000000011111000100011111010101010111010011111111111010001000110011110011001100101110000001110111000101011000011101001000010010011111000110111011011111000010100011011000110101101100100111100010101111110011000000100100000100100000101110000010100010101101010101110101010000011010001010101100011111000010001110111111000010001001000001001100101010001011011000110011101001110111011110110110000110001010000000011100011100011011000100110101011110010110010110101100010011100110101000000000111001111110110100000100101011001011001111111000001011011101011110001010000001001010101001010001100000010000000010001101001001101000100111100101010010111011100011100011011000011011010000001100110001111001000101010110000110111001000110101000110010011010110100110011011100101111010110011011000011001110010011010100000101110111001111110110111110100111110011001010000110000010010011000111111100011101111010110011010110010001101010111100011110001000110100011000101010011011001011100110100111001000100111111011000101111010010111001101001010001001101100111101101010111110110101101101001000001001111111100110000000000110100111010000000111011100100010010010101010111100010111000110000111011001010110000101011110011101110000011000110011001111011010110101100111001111101001111101111111001100000110110101101101011101111010101010000011000100110110010000110001010001110110110111111101111001100011100010110110011111100111000110100101000010000100110101100100011010101010010101000110110101011111100011111000000100100101001100111110101110100100100010110110101101011111001000100110000100001111101001000100000000011101111110011101100110011001010010000001111000000101100000110111111011000110100111001110101100011001111000100111010101110000101101110000001110111010101111001101100110000000101011001010000101010001010111100100111000010011100100111111111010110000101000110011011010110000111101111110000010011001111110101010000000011101111011100110000001100001011110010111010110101011110101011011000100011110110010011101101110001100001011000100001001111000101111001101011000101100100100111001111100110100010011111110101001011101100011010111011011000010001100000000111100001011010011001010110101110110010111001101001100111010011010000000000111010001010010100001010100110001110100000110100101101011011101001110100001001001001011000111010001000011010011010101100001111011010001100100000001011111100001111101101100011101001110001011110011101000110111011100010000001100101110111110001011001111110001011111100011101011110001111100110010010111110000100110011011010011111011000110111001111011000000000110110110001110010100110110011011100010001101111100111000101000001100111000101010111000000111100101111100111110110111010100111100011111010101100101000111000001100001011000001101000110110010000100111011111000111111000111110000000110010010110111110010101110001001010010000000001001100001100111110101010000001101101110110010101111011111110001100000110011111101011010100001011110100101100000000101100101100010101110000000111101110011111000110110000010010001101101001100101110111111010'"
      ]
     },
     "execution_count": 40,
     "metadata": {},
     "output_type": "execute_result"
    }
   ],
   "source": [
    "bin(120154687645312015346851322120154687645312015346851201546876453120153468513221201546876453120153468513221201546876453120153468513221201546876453120153468513221201546876453120153468513221201546876453120153468513221201546876453120153468513221201546876453120153468513221201546876453120153468513221201546876453120153468513221201546876453120153468513221201546876453120153468513221201546876453120153468513221201546876453120153468513221201546876453120153468513221201546876453120153468513221201546876453120153468513221201546876453120153468513221201546876453120153468513221201546876453120153468513221201546876453120153468513221201546876453120153468513221201546876453120153468513221201546876453120153468513221201546876453120153468513221201546876453120153468513221201546876453120153468513221201546876453120153468513221201546876453120153468513221201546876453120153468513221201546876453120153468513221201546876453120153468513221201546876453120153468513221201546876453120153468513221201546876453120153468513221201546876453120153468513221201546876453120153468513221201546876453120153468513221201546876453120153468513221201546876453120153468513221201546876453120153468513221201546876453120153468513221201546876453120153468513221322120154687645312015346851322)"
   ]
  },
  {
   "cell_type": "code",
   "execution_count": 41,
   "metadata": {},
   "outputs": [
    {
     "data": {
      "text/plain": [
       "15"
      ]
     },
     "execution_count": 41,
     "metadata": {},
     "output_type": "execute_result"
    }
   ],
   "source": [
    "13 |15"
   ]
  },
  {
   "cell_type": "code",
   "execution_count": 42,
   "metadata": {},
   "outputs": [
    {
     "data": {
      "text/plain": [
       "'0b1110'"
      ]
     },
     "execution_count": 42,
     "metadata": {},
     "output_type": "execute_result"
    }
   ],
   "source": [
    "bin(14)"
   ]
  },
  {
   "cell_type": "code",
   "execution_count": 43,
   "metadata": {},
   "outputs": [
    {
     "data": {
      "text/plain": [
       "14"
      ]
     },
     "execution_count": 43,
     "metadata": {},
     "output_type": "execute_result"
    }
   ],
   "source": [
    "14|10"
   ]
  },
  {
   "cell_type": "code",
   "execution_count": 44,
   "metadata": {},
   "outputs": [
    {
     "data": {
      "text/plain": [
       "3"
      ]
     },
     "execution_count": 44,
     "metadata": {},
     "output_type": "execute_result"
    }
   ],
   "source": [
    "1 | 2"
   ]
  },
  {
   "cell_type": "code",
   "execution_count": 45,
   "metadata": {},
   "outputs": [
    {
     "data": {
      "text/plain": [
       "10"
      ]
     },
     "execution_count": 45,
     "metadata": {},
     "output_type": "execute_result"
    }
   ],
   "source": [
    "14 & 10"
   ]
  },
  {
   "cell_type": "code",
   "execution_count": 46,
   "metadata": {},
   "outputs": [
    {
     "data": {
      "text/plain": [
       "16"
      ]
     },
     "execution_count": 46,
     "metadata": {},
     "output_type": "execute_result"
    }
   ],
   "source": [
    "16 & 19\n"
   ]
  },
  {
   "cell_type": "code",
   "execution_count": 47,
   "metadata": {},
   "outputs": [
    {
     "data": {
      "text/plain": [
       "3"
      ]
     },
     "execution_count": 47,
     "metadata": {},
     "output_type": "execute_result"
    }
   ],
   "source": [
    "16 ^ 19"
   ]
  },
  {
   "cell_type": "code",
   "execution_count": 50,
   "metadata": {},
   "outputs": [
    {
     "data": {
      "text/plain": [
       "-15"
      ]
     },
     "execution_count": 50,
     "metadata": {},
     "output_type": "execute_result"
    }
   ],
   "source": [
    "~14"
   ]
  },
  {
   "cell_type": "code",
   "execution_count": null,
   "metadata": {},
   "outputs": [],
   "source": []
  },
  {
   "cell_type": "markdown",
   "metadata": {},
   "source": [
    "### "
   ]
  },
  {
   "cell_type": "code",
   "execution_count": 51,
   "metadata": {},
   "outputs": [
    {
     "data": {
      "text/plain": [
       "104"
      ]
     },
     "execution_count": 51,
     "metadata": {},
     "output_type": "execute_result"
    }
   ],
   "source": [
    "13 << 3"
   ]
  },
  {
   "cell_type": "code",
   "execution_count": 52,
   "metadata": {},
   "outputs": [
    {
     "data": {
      "text/plain": [
       "1"
      ]
     },
     "execution_count": 52,
     "metadata": {},
     "output_type": "execute_result"
    }
   ],
   "source": [
    "13 >> 3"
   ]
  },
  {
   "cell_type": "code",
   "execution_count": 54,
   "metadata": {},
   "outputs": [
    {
     "data": {
      "text/plain": [
       "2"
      ]
     },
     "execution_count": 54,
     "metadata": {},
     "output_type": "execute_result"
    }
   ],
   "source": [
    "19 >> 3"
   ]
  },
  {
   "cell_type": "code",
   "execution_count": null,
   "metadata": {},
   "outputs": [],
   "source": []
  },
  {
   "cell_type": "code",
   "execution_count": null,
   "metadata": {},
   "outputs": [],
   "source": []
  },
  {
   "cell_type": "markdown",
   "metadata": {},
   "source": [
    "# Arithmetic"
   ]
  },
  {
   "cell_type": "code",
   "execution_count": 56,
   "metadata": {},
   "outputs": [
    {
     "data": {
      "text/plain": [
       "2.5"
      ]
     },
     "execution_count": 56,
     "metadata": {},
     "output_type": "execute_result"
    }
   ],
   "source": [
    "15/6 # true / absolute division"
   ]
  },
  {
   "cell_type": "code",
   "execution_count": 57,
   "metadata": {},
   "outputs": [
    {
     "data": {
      "text/plain": [
       "2"
      ]
     },
     "execution_count": 57,
     "metadata": {},
     "output_type": "execute_result"
    }
   ],
   "source": [
    "15 // 6 # floor "
   ]
  },
  {
   "cell_type": "code",
   "execution_count": 58,
   "metadata": {},
   "outputs": [],
   "source": [
    "from math import *"
   ]
  },
  {
   "cell_type": "code",
   "execution_count": 59,
   "metadata": {},
   "outputs": [],
   "source": [
    "x = 3.4\n",
    "y = 3.5\n",
    "z = 3.6\n",
    "\n",
    "\n"
   ]
  },
  {
   "cell_type": "code",
   "execution_count": 61,
   "metadata": {},
   "outputs": [
    {
     "data": {
      "text/plain": [
       "4"
      ]
     },
     "execution_count": 61,
     "metadata": {},
     "output_type": "execute_result"
    }
   ],
   "source": [
    "ceil(z)"
   ]
  },
  {
   "cell_type": "code",
   "execution_count": 62,
   "metadata": {},
   "outputs": [
    {
     "data": {
      "text/plain": [
       "4"
      ]
     },
     "execution_count": 62,
     "metadata": {},
     "output_type": "execute_result"
    }
   ],
   "source": [
    "ceil(x)"
   ]
  },
  {
   "cell_type": "code",
   "execution_count": 63,
   "metadata": {},
   "outputs": [
    {
     "data": {
      "text/plain": [
       "4"
      ]
     },
     "execution_count": 63,
     "metadata": {},
     "output_type": "execute_result"
    }
   ],
   "source": [
    "ceil(y)"
   ]
  },
  {
   "cell_type": "code",
   "execution_count": 64,
   "metadata": {},
   "outputs": [
    {
     "data": {
      "text/plain": [
       "3"
      ]
     },
     "execution_count": 64,
     "metadata": {},
     "output_type": "execute_result"
    }
   ],
   "source": [
    "floor(x)"
   ]
  },
  {
   "cell_type": "code",
   "execution_count": 66,
   "metadata": {},
   "outputs": [
    {
     "data": {
      "text/plain": [
       "3"
      ]
     },
     "execution_count": 66,
     "metadata": {},
     "output_type": "execute_result"
    }
   ],
   "source": [
    "round(x)"
   ]
  },
  {
   "cell_type": "code",
   "execution_count": 67,
   "metadata": {},
   "outputs": [
    {
     "data": {
      "text/plain": [
       "4"
      ]
     },
     "execution_count": 67,
     "metadata": {},
     "output_type": "execute_result"
    }
   ],
   "source": [
    "round(y)"
   ]
  },
  {
   "cell_type": "code",
   "execution_count": null,
   "metadata": {},
   "outputs": [],
   "source": []
  },
  {
   "cell_type": "markdown",
   "metadata": {},
   "source": [
    "# string"
   ]
  },
  {
   "cell_type": "code",
   "execution_count": 69,
   "metadata": {},
   "outputs": [
    {
     "data": {
      "text/plain": [
       "'hello hello hello hello hello hello hello hello hello hello hello hello hello hello hello hello hello hello hello hello '"
      ]
     },
     "execution_count": 69,
     "metadata": {},
     "output_type": "execute_result"
    }
   ],
   "source": [
    "\"hello \" * 20"
   ]
  },
  {
   "cell_type": "markdown",
   "metadata": {},
   "source": [
    "# Comparison"
   ]
  },
  {
   "cell_type": "code",
   "execution_count": 71,
   "metadata": {},
   "outputs": [
    {
     "data": {
      "text/plain": [
       "False"
      ]
     },
     "execution_count": 71,
     "metadata": {},
     "output_type": "execute_result"
    }
   ],
   "source": [
    "'h'<\"H\""
   ]
  },
  {
   "cell_type": "code",
   "execution_count": 72,
   "metadata": {},
   "outputs": [
    {
     "data": {
      "text/plain": [
       "False"
      ]
     },
     "execution_count": 72,
     "metadata": {},
     "output_type": "execute_result"
    }
   ],
   "source": [
    "7>8"
   ]
  },
  {
   "cell_type": "markdown",
   "metadata": {},
   "source": [
    "# Logical"
   ]
  },
  {
   "cell_type": "code",
   "execution_count": 73,
   "metadata": {},
   "outputs": [
    {
     "data": {
      "text/plain": [
       "False"
      ]
     },
     "execution_count": 73,
     "metadata": {},
     "output_type": "execute_result"
    }
   ],
   "source": [
    "True and False"
   ]
  },
  {
   "cell_type": "code",
   "execution_count": 1,
   "metadata": {},
   "outputs": [],
   "source": [
    "# and works from left to right"
   ]
  },
  {
   "cell_type": "code",
   "execution_count": 2,
   "metadata": {},
   "outputs": [
    {
     "data": {
      "text/plain": [
       "5"
      ]
     },
     "execution_count": 2,
     "metadata": {},
     "output_type": "execute_result"
    }
   ],
   "source": [
    "4 and 5"
   ]
  },
  {
   "cell_type": "code",
   "execution_count": 3,
   "metadata": {},
   "outputs": [
    {
     "data": {
      "text/plain": [
       "False"
      ]
     },
     "execution_count": 3,
     "metadata": {},
     "output_type": "execute_result"
    }
   ],
   "source": [
    "bool('')"
   ]
  },
  {
   "cell_type": "markdown",
   "metadata": {},
   "source": [
    "# Membership"
   ]
  },
  {
   "cell_type": "code",
   "execution_count": 4,
   "metadata": {},
   "outputs": [
    {
     "data": {
      "text/plain": [
       "32"
      ]
     },
     "execution_count": 4,
     "metadata": {},
     "output_type": "execute_result"
    }
   ],
   "source": [
    "ord(\" \")"
   ]
  },
  {
   "cell_type": "code",
   "execution_count": 5,
   "metadata": {},
   "outputs": [
    {
     "data": {
      "text/plain": [
       "False"
      ]
     },
     "execution_count": 5,
     "metadata": {},
     "output_type": "execute_result"
    }
   ],
   "source": [
    "x = \"hello world\"\n",
    "y =\"hello world\"\n",
    "y is x"
   ]
  },
  {
   "cell_type": "code",
   "execution_count": 8,
   "metadata": {},
   "outputs": [],
   "source": [
    "x = 10 + 5 *6-12/3 and 15*10+15/6*2"
   ]
  },
  {
   "cell_type": "code",
   "execution_count": 9,
   "metadata": {},
   "outputs": [
    {
     "data": {
      "text/plain": [
       "155.0"
      ]
     },
     "execution_count": 9,
     "metadata": {},
     "output_type": "execute_result"
    }
   ],
   "source": [
    "x"
   ]
  },
  {
   "cell_type": "code",
   "execution_count": 10,
   "metadata": {},
   "outputs": [
    {
     "ename": "ZeroDivisionError",
     "evalue": "division by zero",
     "output_type": "error",
     "traceback": [
      "\u001b[1;31m---------------------------------------------------------------------------\u001b[0m",
      "\u001b[1;31mZeroDivisionError\u001b[0m                         Traceback (most recent call last)",
      "\u001b[1;32m<ipython-input-10-700aace389cf>\u001b[0m in \u001b[0;36m<module>\u001b[1;34m\u001b[0m\n\u001b[1;32m----> 1\u001b[1;33m \u001b[1;36m6\u001b[0m\u001b[1;33m/\u001b[0m\u001b[1;36m0\u001b[0m\u001b[1;33m\u001b[0m\u001b[1;33m\u001b[0m\u001b[0m\n\u001b[0m",
      "\u001b[1;31mZeroDivisionError\u001b[0m: division by zero"
     ]
    }
   ],
   "source": [
    "6/0"
   ]
  },
  {
   "cell_type": "code",
   "execution_count": null,
   "metadata": {},
   "outputs": [],
   "source": []
  },
  {
   "cell_type": "code",
   "execution_count": null,
   "metadata": {},
   "outputs": [],
   "source": []
  },
  {
   "cell_type": "markdown",
   "metadata": {},
   "source": [
    "# Control Statement or Decision making"
   ]
  },
  {
   "cell_type": "code",
   "execution_count": 11,
   "metadata": {},
   "outputs": [],
   "source": [
    "# algo and flow chart"
   ]
  },
  {
   "cell_type": "code",
   "execution_count": 12,
   "metadata": {},
   "outputs": [],
   "source": [
    "# riddle"
   ]
  },
  {
   "cell_type": "code",
   "execution_count": null,
   "metadata": {},
   "outputs": [],
   "source": []
  },
  {
   "cell_type": "code",
   "execution_count": null,
   "metadata": {},
   "outputs": [],
   "source": []
  },
  {
   "cell_type": "markdown",
   "metadata": {},
   "source": [
    "# Even odd algo"
   ]
  },
  {
   "cell_type": "markdown",
   "metadata": {},
   "source": [
    "Start:\n",
    "input n\n",
    "if n%2 == 0\n",
    "print even\n",
    "else\n",
    "print odd\n",
    "stop."
   ]
  },
  {
   "cell_type": "code",
   "execution_count": 18,
   "metadata": {},
   "outputs": [
    {
     "name": "stdout",
     "output_type": "stream",
     "text": [
      "Apna naam daal :   hh\n",
      "Hello user hh\n"
     ]
    }
   ],
   "source": [
    "name = input(\"Apna naam daal : \").strip()\n",
    "if (name):\n",
    "    print(\"Hello user\",name)"
   ]
  },
  {
   "cell_type": "code",
   "execution_count": 20,
   "metadata": {},
   "outputs": [
    {
     "name": "stdout",
     "output_type": "stream",
     "text": [
      "h\n",
      "\n"
     ]
    }
   ],
   "source": [
    "if (input()):\n",
    "    print()"
   ]
  },
  {
   "cell_type": "code",
   "execution_count": null,
   "metadata": {},
   "outputs": [],
   "source": [
    "x = input().lower().strip().split(\" \")\n",
    "z = \"\".join(x)\n",
    "if x == 'yes' or x == 'y':\n",
    "    print(\"welcome\")\n",
    "else:\n",
    "    print(\"bhaag jaa yha see\")"
   ]
  },
  {
   "cell_type": "code",
   "execution_count": null,
   "metadata": {},
   "outputs": [],
   "source": []
  },
  {
   "cell_type": "code",
   "execution_count": 1,
   "metadata": {},
   "outputs": [
    {
     "name": "stdout",
     "output_type": "stream",
     "text": [
      "Enter a number : 3\n",
      "Enter a number : 5\n",
      "Enter a number : 7\n"
     ]
    },
    {
     "data": {
      "text/plain": [
       "7"
      ]
     },
     "execution_count": 1,
     "metadata": {},
     "output_type": "execute_result"
    }
   ],
   "source": [
    "x = []\n",
    "x.append(int(input(\"Enter a number : \")))\n",
    "x.append(int(input(\"Enter a number : \")))\n",
    "x.append(int(input(\"Enter a number : \")))\n",
    "\n",
    "max(x)"
   ]
  },
  {
   "cell_type": "code",
   "execution_count": 3,
   "metadata": {},
   "outputs": [
    {
     "name": "stdout",
     "output_type": "stream",
     "text": [
      "Enter job type : private\n",
      "Sorry no loan. \n"
     ]
    }
   ],
   "source": [
    "job_type = input(\"Enter job type : \").lower()\n",
    "# govt(salary  >40000 loan apporce fast , less loan for low salary) , private , business (turnover)\n",
    "\n",
    "if job_type == 'government':\n",
    "    salary = int(input(\"Tell salary : \"))\n",
    "    \n",
    "    if salary < 40000:\n",
    "        print(\"will give less amount of loan.\")\n",
    "    elif salary > 40000:\n",
    "        print(\"will give loan fast.\")\n",
    "elif job_type == 'business':\n",
    "    salary = int(input(\"Tell turnover : \"))\n",
    "    \n",
    "    if salary < 2000000:\n",
    "        print(\"will not give loan.\")\n",
    "    elif salary > 2000000:\n",
    "        print(\"will give  fast.\")\n",
    "elif job_type == 'private':\n",
    "    print(\"Sorry no loan. \")\n",
    "else :\n",
    "    print(\"faaltu baitha hu kya yaha pe\")\n",
    "    \n"
   ]
  },
  {
   "cell_type": "markdown",
   "metadata": {},
   "source": [
    "\n",
    "# Rock paper scissor"
   ]
  },
  {
   "cell_type": "code",
   "execution_count": 3,
   "metadata": {},
   "outputs": [
    {
     "name": "stdout",
     "output_type": "stream",
     "text": [
      "Enter player 1 : ········\n",
      "Enter player 2 : ········\n",
      "p1 won\n",
      "Enter player 1 : ········\n",
      "Enter player 2 : ········\n",
      "Enter player 1 : ········\n",
      "Enter player 2 : ········\n",
      "Enter player 1 : ········\n",
      "Enter player 2 : ········\n",
      "player two won\n"
     ]
    }
   ],
   "source": [
    "p1 = (('rock','scissor'),('paper','rock'),('scissor','paper'))\n",
    "c1 = int(0)\n",
    "c2 = int(0)\n",
    "r = 0\n",
    "from getpass import getpass\n",
    "while r<=3:\n",
    "    P1 = getpass(\"Enter player 1 : \").lower()\n",
    "    P2 = getpass(\"Enter player 2 : \").lower()\n",
    "    if (P1,P2) in p1:\n",
    "        print(\"p1 won\")\n",
    "        c1=c1+1\n",
    "    else : \n",
    "        c2 = c2+1\n",
    "    r=r+1\n",
    "if c1>c2:\n",
    "    print(\"Player one won\")\n",
    "else:\n",
    "    print(\"player two won\")\n",
    "    \n",
    "        \n",
    "    "
   ]
  },
  {
   "cell_type": "code",
   "execution_count": 4,
   "metadata": {},
   "outputs": [
    {
     "name": "stdout",
     "output_type": "stream",
     "text": [
      "Enter the number : 2\n",
      "2\n",
      "4\n",
      "6\n",
      "8\n",
      "10\n",
      "12\n",
      "14\n",
      "16\n",
      "18\n",
      "20\n"
     ]
    }
   ],
   "source": [
    "n = int(input(\"Enter the number : \"))\n",
    "c = 1\n",
    "while c<=10:\n",
    "    print(c*n)\n",
    "    c = c+1"
   ]
  },
  {
   "cell_type": "code",
   "execution_count": null,
   "metadata": {},
   "outputs": [],
   "source": []
  }
 ],
 "metadata": {
  "kernelspec": {
   "display_name": "Python 3",
   "language": "python",
   "name": "python3"
  },
  "language_info": {
   "codemirror_mode": {
    "name": "ipython",
    "version": 3
   },
   "file_extension": ".py",
   "mimetype": "text/x-python",
   "name": "python",
   "nbconvert_exporter": "python",
   "pygments_lexer": "ipython3",
   "version": "3.7.3"
  }
 },
 "nbformat": 4,
 "nbformat_minor": 2
}
