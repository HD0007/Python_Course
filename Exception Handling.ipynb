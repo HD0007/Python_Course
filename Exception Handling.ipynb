{
 "cells": [
  {
   "cell_type": "code",
   "execution_count": 4,
   "metadata": {},
   "outputs": [
    {
     "name": "stdout",
     "output_type": "stream",
     "text": [
      "enter a number : -2\n",
      "Enter the positive number positive number only\n",
      "enter a number : 1\n",
      "1\n"
     ]
    }
   ],
   "source": [
    "# custom exception\n",
    "while True:\n",
    "    try:\n",
    "        a = int(input(\"enter a number : \"))\n",
    "        if a < 0:\n",
    "            raise ValueError(\"positive number only\")\n",
    "        else:\n",
    "            print(a)\n",
    "            break \n",
    "    except ValueError as e:\n",
    "        print(\"Enter the positive number\",e) \n",
    "    "
   ]
  },
  {
   "cell_type": "code",
   "execution_count": 5,
   "metadata": {},
   "outputs": [
    {
     "ename": "ModuleNotFoundError",
     "evalue": "No module named 'pymysql'",
     "output_type": "error",
     "traceback": [
      "\u001b[1;31m---------------------------------------------------------------------------\u001b[0m",
      "\u001b[1;31mModuleNotFoundError\u001b[0m                       Traceback (most recent call last)",
      "\u001b[1;32m<ipython-input-5-47bb54317944>\u001b[0m in \u001b[0;36m<module>\u001b[1;34m\u001b[0m\n\u001b[0;32m      1\u001b[0m \u001b[1;32mfrom\u001b[0m \u001b[0mflask\u001b[0m \u001b[1;32mimport\u001b[0m \u001b[0mFlask\u001b[0m\u001b[1;33m,\u001b[0m\u001b[0mrequest\u001b[0m\u001b[1;33m,\u001b[0m\u001b[0mrender_template\u001b[0m\u001b[1;33m,\u001b[0m\u001b[0msession\u001b[0m\u001b[1;33m,\u001b[0m\u001b[0mredirect\u001b[0m\u001b[1;33m,\u001b[0m\u001b[0mjsonify\u001b[0m\u001b[1;33m\u001b[0m\u001b[1;33m\u001b[0m\u001b[0m\n\u001b[1;32m----> 2\u001b[1;33m \u001b[1;32mimport\u001b[0m \u001b[0mpymysql\u001b[0m \u001b[1;32mas\u001b[0m \u001b[0msql\u001b[0m\u001b[1;33m\u001b[0m\u001b[1;33m\u001b[0m\u001b[0m\n\u001b[0m\u001b[0;32m      3\u001b[0m \u001b[1;32mfrom\u001b[0m \u001b[0mdatetime\u001b[0m \u001b[1;32mimport\u001b[0m \u001b[0mtimedelta\u001b[0m\u001b[1;33m\u001b[0m\u001b[1;33m\u001b[0m\u001b[0m\n\u001b[0;32m      4\u001b[0m \u001b[1;32mimport\u001b[0m \u001b[0mrandom\u001b[0m\u001b[1;33m\u001b[0m\u001b[1;33m\u001b[0m\u001b[0m\n\u001b[0;32m      5\u001b[0m \u001b[1;32mimport\u001b[0m \u001b[0mjson\u001b[0m\u001b[1;33m\u001b[0m\u001b[1;33m\u001b[0m\u001b[0m\n",
      "\u001b[1;31mModuleNotFoundError\u001b[0m: No module named 'pymysql'"
     ]
    }
   ],
   "source": []
  },
  {
   "cell_type": "code",
   "execution_count": 6,
   "metadata": {},
   "outputs": [
    {
     "data": {
      "text/plain": [
       "0"
      ]
     },
     "execution_count": 6,
     "metadata": {},
     "output_type": "execute_result"
    }
   ],
   "source": [
    "d = {}\n",
    "len(d)"
   ]
  },
  {
   "cell_type": "code",
   "execution_count": 4,
   "metadata": {},
   "outputs": [
    {
     "name": "stdout",
     "output_type": "stream",
     "text": [
      "Enter Y to continue or N to exit : y\n",
      "Dare\n",
      "Enter Y to continue or N to exit : y\n",
      "Dare\n",
      "Enter Y to continue or N to exit : y\n",
      "Truth\n",
      "Enter Y to continue or N to exit : y\n",
      "Truth\n",
      "Enter Y to continue or N to exit : n\n"
     ]
    }
   ],
   "source": [
    "from random import choice \n",
    "list_choice = ['Truth','Dare','Situation']\n",
    "while True :\n",
    "    a = input(\"Enter Y to continue or N to exit : \").lower()\n",
    "    if a == 'y':\n",
    "        print(choice(list_choice))\n",
    "    else:\n",
    "        break\n",
    "        \n",
    "    "
   ]
  },
  {
   "cell_type": "code",
   "execution_count": 5,
   "metadata": {},
   "outputs": [
    {
     "name": "stderr",
     "output_type": "stream",
     "text": [
      "UsageError: %cd -: No previous directory to change to.\n"
     ]
    }
   ],
   "source": [
    "cd -\n"
   ]
  },
  {
   "cell_type": "code",
   "execution_count": 6,
   "metadata": {},
   "outputs": [
    {
     "name": "stdout",
     "output_type": "stream",
     "text": [
      " Volume in drive C is Windows\n",
      " Volume Serial Number is C4FA-E36E\n",
      "\n",
      " Directory of C:\\Users\\user\n",
      "\n",
      "26-06-2019  01:14 PM    <DIR>          .\n",
      "26-06-2019  01:14 PM    <DIR>          ..\n",
      "09-03-2019  12:03 AM    <DIR>          .anaconda\n",
      "14-03-2019  08:20 PM    <DIR>          .android\n",
      "22-03-2019  08:44 AM    <DIR>          .cache\n",
      "08-04-2019  03:13 PM    <DIR>          .conda\n",
      "08-04-2019  11:53 AM                43 .condarc\n",
      "09-06-2019  11:31 AM    <DIR>          .config\n",
      "22-03-2019  12:24 AM    <DIR>          .idlerc\n",
      "25-06-2019  01:37 PM    <DIR>          .ipynb_checkpoints\n",
      "09-03-2019  12:05 AM    <DIR>          .ipython\n",
      "25-06-2019  01:43 PM    <DIR>          .jupyter\n",
      "10-04-2019  01:05 PM    <DIR>          .keras\n",
      "09-04-2019  06:05 AM    <DIR>          .matplotlib\n",
      "11-04-2019  06:12 AM    <DIR>          .nbi\n",
      "09-06-2019  08:54 PM               485 .octave_hist\n",
      "22-03-2019  10:00 PM    <DIR>          .PyCharmCE2018.3\n",
      "06-06-2019  01:32 PM               731 .python_history\n",
      "25-06-2019  01:56 PM    <DIR>          .spyder-py3\n",
      "22-06-2019  07:41 PM    <DIR>          .VirtualBox\n",
      "22-06-2019  03:47 PM            13,075 _viminfo\n",
      "20-06-2019  01:28 PM         7,409,445 13 functions.ipynb\n",
      "19-06-2019  02:28 PM    <DIR>          3D Objects\n",
      "24-06-2019  02:49 PM                15 abracadabra.txt\n",
      "16-06-2019  09:05 PM    <DIR>          Anaconda3\n",
      "26-03-2019  07:04 PM    <DIR>          ansel\n",
      "12-06-2019  01:10 PM             3,521 assignment_5.ipynb\n",
      "22-06-2019  06:56 PM           296,101 B31.jpg\n",
      "22-06-2019  07:22 PM           377,187 B32.jpg\n",
      "24-06-2019  12:05 AM            42,027 bank_app_tk_try.ipynb\n",
      "22-06-2019  05:37 PM           192,617 bank1.jpg\n",
      "22-06-2019  05:37 PM           105,891 bank2.jpg\n",
      "06-06-2019  12:09 PM               920 carpattern.py\n",
      "19-06-2019  02:28 PM    <DIR>          Contacts\n",
      "14-06-2019  03:45 PM             6,246 control statement.ipynb\n",
      "25-06-2019  02:12 PM    <DIR>          Creative Cloud Files\n",
      "07-06-2019  01:45 PM            44,451 day1.ipynb\n",
      "22-06-2019  03:13 PM    <DIR>          Desktop\n",
      "13-06-2019  04:01 PM            32,038 DIct.ipynb\n",
      "22-06-2019  07:43 PM    <DIR>          Documents\n",
      "26-06-2019  01:41 PM    <DIR>          Downloads\n",
      "26-06-2019  01:14 PM             4,170 Exception Handling.ipynb\n",
      "12-03-2019  05:31 PM                56 exdata.csv\n",
      "19-06-2019  02:28 PM    <DIR>          Favorites\n",
      "24-06-2019  03:37 PM            19,490 File_Handling.ipynb\n",
      "19-06-2019  04:08 PM             7,981 fucntions lambda.ipynb\n",
      "02-03-2019  04:23 AM         1,131,779 HD.jpg\n",
      "02-03-2019  02:31 PM    <DIR>          HP\n",
      "19-06-2019  02:29 PM    <DIR>          Links\n",
      "07-06-2019  11:08 AM             9,756 List.ipynb\n",
      "24-06-2019  05:01 PM             8,192 main_database.db\n",
      "19-06-2019  02:28 PM    <DIR>          Music\n",
      "05-06-2019  02:59 PM               190 mypattern.py\n",
      "10-06-2019  01:46 PM                57 one.py\n",
      "06-06-2019  02:09 PM                75 one.txt\n",
      "17-06-2019  05:59 PM    <DIR>          OneDrive\n",
      "22-06-2019  03:16 PM            33,386 oops.ipynb\n",
      "25-06-2019  09:22 AM                25 out.csv\n",
      "17-06-2019  01:33 PM         1,146,920 Pattern.ipynb\n",
      "19-06-2019  02:28 PM    <DIR>          Pictures\n",
      "24-06-2019  07:40 PM    <DIR>          PycharmProjects\n",
      "09-04-2019  06:08 AM             1,840 Python_ML_Workshop.ipynb\n",
      "05-12-2018  10:10 AM    <DIR>          Roaming\n",
      "19-06-2019  02:29 PM    <DIR>          Saved Games\n",
      "19-06-2019  02:28 PM    <DIR>          Searches\n",
      "07-08-2015  09:09 PM           579,584 sqlite3.exe\n",
      "25-06-2019  01:33 PM            68,897 sqlite3.ipynb\n",
      "12-06-2019  01:25 PM            11,053 String.ipynb\n",
      "11-06-2019  03:52 PM            77,298 String_Grass.ipynb\n",
      "18-06-2019  08:57 PM            12,797 tkinter file transfer.ipynb\n",
      "23-06-2019  06:11 PM            14,799 tkinter.ipynb\n",
      "23-06-2019  10:38 AM             7,081 tkinter1.ipynb\n",
      "21-03-2019  11:57 PM             8,192 tutorial.db\n",
      "12-04-2019  08:10 PM         1,240,748 Untitled.ipynb\n",
      "22-06-2019  11:17 PM           282,853 Untitled1.ipynb\n",
      "03-06-2019  02:49 PM                72 Untitled2.ipynb\n",
      "20-06-2019  09:27 AM    <DIR>          Videos\n",
      "02-04-2019  08:03 PM    <DIR>          VirtualBox VMs\n",
      "              41 File(s)     13,192,084 bytes\n",
      "              37 Dir(s)  102,930,071,552 bytes free\n"
     ]
    }
   ],
   "source": [
    "ls\n"
   ]
  },
  {
   "cell_type": "code",
   "execution_count": 7,
   "metadata": {},
   "outputs": [
    {
     "name": "stdout",
     "output_type": "stream",
     "text": [
      "C:\\Users\\user\\Anaconda3\n"
     ]
    }
   ],
   "source": [
    "cd Anaconda3/"
   ]
  },
  {
   "cell_type": "code",
   "execution_count": 8,
   "metadata": {},
   "outputs": [
    {
     "name": "stdout",
     "output_type": "stream",
     "text": [
      "C:\\Users\\user\n"
     ]
    }
   ],
   "source": [
    "cd -\n"
   ]
  },
  {
   "cell_type": "code",
   "execution_count": 9,
   "metadata": {},
   "outputs": [
    {
     "name": "stdout",
     "output_type": "stream",
     "text": [
      "C:\\Users\n"
     ]
    }
   ],
   "source": [
    "cd .."
   ]
  },
  {
   "cell_type": "code",
   "execution_count": 5,
   "metadata": {},
   "outputs": [],
   "source": [
    "from numpy import *"
   ]
  },
  {
   "cell_type": "code",
   "execution_count": null,
   "metadata": {},
   "outputs": [],
   "source": []
  },
  {
   "cell_type": "code",
   "execution_count": 6,
   "metadata": {},
   "outputs": [
    {
     "ename": "NameError",
     "evalue": "name 'sample' is not defined",
     "output_type": "error",
     "traceback": [
      "\u001b[1;31m---------------------------------------------------------------------------\u001b[0m",
      "\u001b[1;31mNameError\u001b[0m                                 Traceback (most recent call last)",
      "\u001b[1;32m<ipython-input-6-ab7b5201bceb>\u001b[0m in \u001b[0;36m<module>\u001b[1;34m\u001b[0m\n\u001b[1;32m----> 1\u001b[1;33m \u001b[0msample\u001b[0m\u001b[1;33m(\u001b[0m\u001b[0mrange\u001b[0m\u001b[1;33m(\u001b[0m\u001b[1;36m1\u001b[0m\u001b[1;33m,\u001b[0m\u001b[1;36m100\u001b[0m\u001b[1;33m)\u001b[0m\u001b[1;33m,\u001b[0m\u001b[1;36m10\u001b[0m\u001b[1;33m)\u001b[0m\u001b[1;33m\u001b[0m\u001b[1;33m\u001b[0m\u001b[0m\n\u001b[0m",
      "\u001b[1;31mNameError\u001b[0m: name 'sample' is not defined"
     ]
    }
   ],
   "source": [
    "sample(range(1,100),10)"
   ]
  },
  {
   "cell_type": "code",
   "execution_count": null,
   "metadata": {},
   "outputs": [],
   "source": []
  },
  {
   "cell_type": "code",
   "execution_count": 7,
   "metadata": {},
   "outputs": [],
   "source": [
    "x  = arange(1,11)"
   ]
  },
  {
   "cell_type": "code",
   "execution_count": 8,
   "metadata": {},
   "outputs": [
    {
     "data": {
      "text/plain": [
       "array([ 1,  2,  3,  4,  5,  6,  7,  8,  9, 10])"
      ]
     },
     "execution_count": 8,
     "metadata": {},
     "output_type": "execute_result"
    }
   ],
   "source": [
    "x"
   ]
  },
  {
   "cell_type": "code",
   "execution_count": 9,
   "metadata": {},
   "outputs": [],
   "source": [
    "y = arange(1,11)\n"
   ]
  },
  {
   "cell_type": "code",
   "execution_count": 10,
   "metadata": {},
   "outputs": [
    {
     "data": {
      "text/plain": [
       "array([ 1,  2,  3,  4,  5,  6,  7,  8,  9, 10])"
      ]
     },
     "execution_count": 10,
     "metadata": {},
     "output_type": "execute_result"
    }
   ],
   "source": [
    "y"
   ]
  },
  {
   "cell_type": "code",
   "execution_count": 19,
   "metadata": {},
   "outputs": [
    {
     "data": {
      "image/png": "[encoded data removed]",
      "text/plain": [
       "<Figure size 432x288 with 1 Axes>"
      ]
     },
     "metadata": {},
     "output_type": "display_data"
    }
   ],
   "source": [
    "import matplotlib.pyplot as plt\n",
    "%matplotlib inline\n",
    "\n",
    "plt.style.use('seaborn-whitegrid')\n",
    "plt.title(\"HD\",fontsize = 20)\n",
    "plt.plot(x,y,'ro--')\n",
    "plt.plot(x,y**2,'go--')\n",
    "plt.plot(x,sqrt(y),'bo--')\n",
    "\n",
    "plt.show()"
   ]
  },
  {
   "cell_type": "code",
   "execution_count": null,
   "metadata": {},
   "outputs": [],
   "source": []
  },
  {
   "cell_type": "code",
   "execution_count": null,
   "metadata": {},
   "outputs": [],
   "source": []
  },
  {
   "cell_type": "markdown",
   "metadata": {},
   "source": []
  }
 ],
 "metadata": {
  "kernelspec": {
   "display_name": "Python 3",
   "language": "python",
   "name": "python3"
  },
  "language_info": {
   "codemirror_mode": {
    "name": "ipython",
    "version": 3
   },
   "file_extension": ".py",
   "mimetype": "text/x-python",
   "name": "python",
   "nbconvert_exporter": "python",
   "pygments_lexer": "ipython3",
   "version": "3.7.3"
  }
 },
 "nbformat": 4,
 "nbformat_minor": 2
}
